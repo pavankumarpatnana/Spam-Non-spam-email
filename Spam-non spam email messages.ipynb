{
 "cells": [
  {
   "cell_type": "code",
   "execution_count": 1,
   "metadata": {},
   "outputs": [
    {
     "name": "stdout",
     "output_type": "stream",
     "text": [
      "results= ['non-spam']\n"
     ]
    }
   ],
   "source": [
    "import pandas as pd\n",
    "from sklearn.feature_extraction.text import TfidfVectorizer\n",
    "from sklearn import svm\n",
    "from sklearn.naive_bayes import GaussianNB\n",
    "\n",
    "train = pd.read_csv(\"spam_train.csv\")\n",
    "\n",
    "SMS = train['SMS']\n",
    "\n",
    "tfidf = TfidfVectorizer(stop_words='english', use_idf=False, smooth_idf=False)  # TF-IDF\n",
    "\n",
    "X_train = tfidf.fit_transform(SMS)  # Fit the Data\n",
    "\n",
    "y_train = train[\"Class\"]\n",
    "\n",
    "\n",
    "subject=\"I'm gonna be home soon and i don't want to talk about this stuff anymore tonight, k? I've cried enough today.\"\n",
    "\n",
    "X_test = tfidf.transform([subject])\n",
    "\n",
    "clf_svm = svm.SVC()\n",
    "\n",
    "clf_svm.fit(X_train, y_train)\n",
    "\n",
    "res=clf_svm.predict(X_test)\n",
    "\n",
    "print(\"results=\",res)\n",
    "\n"
   ]
  },
  {
   "cell_type": "code",
   "execution_count": null,
   "metadata": {},
   "outputs": [],
   "source": []
  }
 ],
 "metadata": {
  "kernelspec": {
   "display_name": "Python 3 (ipykernel)",
   "language": "python",
   "name": "python3"
  },
  "language_info": {
   "codemirror_mode": {
    "name": "ipython",
    "version": 3
   },
   "file_extension": ".py",
   "mimetype": "text/x-python",
   "name": "python",
   "nbconvert_exporter": "python",
   "pygments_lexer": "ipython3",
   "version": "3.10.9"
  }
 },
 "nbformat": 4,
 "nbformat_minor": 5
}
